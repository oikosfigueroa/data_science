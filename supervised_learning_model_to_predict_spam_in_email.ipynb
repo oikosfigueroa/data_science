{
 "cells": [
  {
   "cell_type": "markdown",
   "id": "6449060b",
   "metadata": {},
   "source": [
    "## Supervised learning and NLP\n",
    "**Building a model to predict if a message is spam or not.**\n",
    "\n",
    "The dataset **Spam** contains the subject lines and the target which takes values 0 and 1 for ham and spam respectively."
   ]
  },
  {
   "cell_type": "markdown",
   "id": "9110655b",
   "metadata": {},
   "source": [
    "What is ham? It is currently defined and understood to be “E-mail that is generally desired and is not considered spam.”\n",
    "\n",
    "\n",
    "What is Spam? It means unsolicited: You did not ask for messages from this source. So if you didn’t ask for the mail it must be spam."
   ]
  },
  {
   "cell_type": "code",
   "execution_count": 1,
   "id": "e4641cba",
   "metadata": {},
   "outputs": [],
   "source": [
    "import pandas as pd\n",
    "import numpy as np\n",
    "from sklearn.metrics import roc_auc_score\n",
    "from sklearn.feature_extraction.text import TfidfVectorizer\n",
    "from sklearn.model_selection import train_test_split\n",
    "from sklearn.linear_model import LogisticRegression\n",
    "import seaborn as sns"
   ]
  },
  {
   "cell_type": "code",
   "execution_count": 2,
   "id": "34c05352",
   "metadata": {},
   "outputs": [
    {
     "data": {
      "text/html": [
       "<div>\n",
       "<style scoped>\n",
       "    .dataframe tbody tr th:only-of-type {\n",
       "        vertical-align: middle;\n",
       "    }\n",
       "\n",
       "    .dataframe tbody tr th {\n",
       "        vertical-align: top;\n",
       "    }\n",
       "\n",
       "    .dataframe thead th {\n",
       "        text-align: right;\n",
       "    }\n",
       "</style>\n",
       "<table border=\"1\" class=\"dataframe\">\n",
       "  <thead>\n",
       "    <tr style=\"text-align: right;\">\n",
       "      <th></th>\n",
       "      <th>text</th>\n",
       "      <th>target</th>\n",
       "    </tr>\n",
       "  </thead>\n",
       "  <tbody>\n",
       "    <tr>\n",
       "      <th>0</th>\n",
       "      <td>Go until jurong point, crazy.. Available only ...</td>\n",
       "      <td>ham</td>\n",
       "    </tr>\n",
       "    <tr>\n",
       "      <th>1</th>\n",
       "      <td>Ok lar... Joking wif u oni...</td>\n",
       "      <td>ham</td>\n",
       "    </tr>\n",
       "    <tr>\n",
       "      <th>2</th>\n",
       "      <td>Free entry in 2 a wkly comp to win FA Cup fina...</td>\n",
       "      <td>spam</td>\n",
       "    </tr>\n",
       "    <tr>\n",
       "      <th>3</th>\n",
       "      <td>U dun say so early hor... U c already then say...</td>\n",
       "      <td>ham</td>\n",
       "    </tr>\n",
       "    <tr>\n",
       "      <th>4</th>\n",
       "      <td>Nah I don't think he goes to usf, he lives aro...</td>\n",
       "      <td>ham</td>\n",
       "    </tr>\n",
       "    <tr>\n",
       "      <th>5</th>\n",
       "      <td>FreeMsg Hey there darling it's been 3 week's n...</td>\n",
       "      <td>spam</td>\n",
       "    </tr>\n",
       "    <tr>\n",
       "      <th>6</th>\n",
       "      <td>Even my brother is not like to speak with me. ...</td>\n",
       "      <td>ham</td>\n",
       "    </tr>\n",
       "    <tr>\n",
       "      <th>7</th>\n",
       "      <td>As per your request 'Melle Melle (Oru Minnamin...</td>\n",
       "      <td>ham</td>\n",
       "    </tr>\n",
       "    <tr>\n",
       "      <th>8</th>\n",
       "      <td>WINNER!! As a valued network customer you have...</td>\n",
       "      <td>spam</td>\n",
       "    </tr>\n",
       "    <tr>\n",
       "      <th>9</th>\n",
       "      <td>Had your mobile 11 months or more? U R entitle...</td>\n",
       "      <td>spam</td>\n",
       "    </tr>\n",
       "  </tbody>\n",
       "</table>\n",
       "</div>"
      ],
      "text/plain": [
       "                                                text target\n",
       "0  Go until jurong point, crazy.. Available only ...    ham\n",
       "1                      Ok lar... Joking wif u oni...    ham\n",
       "2  Free entry in 2 a wkly comp to win FA Cup fina...   spam\n",
       "3  U dun say so early hor... U c already then say...    ham\n",
       "4  Nah I don't think he goes to usf, he lives aro...    ham\n",
       "5  FreeMsg Hey there darling it's been 3 week's n...   spam\n",
       "6  Even my brother is not like to speak with me. ...    ham\n",
       "7  As per your request 'Melle Melle (Oru Minnamin...    ham\n",
       "8  WINNER!! As a valued network customer you have...   spam\n",
       "9  Had your mobile 11 months or more? U R entitle...   spam"
      ]
     },
     "execution_count": 2,
     "metadata": {},
     "output_type": "execute_result"
    }
   ],
   "source": [
    "spam_data = pd.read_csv('spam.csv')\n",
    "spam_data.head(10)"
   ]
  },
  {
   "cell_type": "code",
   "execution_count": 3,
   "id": "91c589e9",
   "metadata": {
    "scrolled": false
   },
   "outputs": [
    {
     "data": {
      "text/html": [
       "<div>\n",
       "<style scoped>\n",
       "    .dataframe tbody tr th:only-of-type {\n",
       "        vertical-align: middle;\n",
       "    }\n",
       "\n",
       "    .dataframe tbody tr th {\n",
       "        vertical-align: top;\n",
       "    }\n",
       "\n",
       "    .dataframe thead th {\n",
       "        text-align: right;\n",
       "    }\n",
       "</style>\n",
       "<table border=\"1\" class=\"dataframe\">\n",
       "  <thead>\n",
       "    <tr style=\"text-align: right;\">\n",
       "      <th></th>\n",
       "      <th>text</th>\n",
       "      <th>target</th>\n",
       "    </tr>\n",
       "  </thead>\n",
       "  <tbody>\n",
       "    <tr>\n",
       "      <th>0</th>\n",
       "      <td>Go until jurong point, crazy.. Available only ...</td>\n",
       "      <td>0</td>\n",
       "    </tr>\n",
       "    <tr>\n",
       "      <th>1</th>\n",
       "      <td>Ok lar... Joking wif u oni...</td>\n",
       "      <td>0</td>\n",
       "    </tr>\n",
       "    <tr>\n",
       "      <th>2</th>\n",
       "      <td>Free entry in 2 a wkly comp to win FA Cup fina...</td>\n",
       "      <td>1</td>\n",
       "    </tr>\n",
       "    <tr>\n",
       "      <th>3</th>\n",
       "      <td>U dun say so early hor... U c already then say...</td>\n",
       "      <td>0</td>\n",
       "    </tr>\n",
       "    <tr>\n",
       "      <th>4</th>\n",
       "      <td>Nah I don't think he goes to usf, he lives aro...</td>\n",
       "      <td>0</td>\n",
       "    </tr>\n",
       "    <tr>\n",
       "      <th>5</th>\n",
       "      <td>FreeMsg Hey there darling it's been 3 week's n...</td>\n",
       "      <td>1</td>\n",
       "    </tr>\n",
       "    <tr>\n",
       "      <th>6</th>\n",
       "      <td>Even my brother is not like to speak with me. ...</td>\n",
       "      <td>0</td>\n",
       "    </tr>\n",
       "    <tr>\n",
       "      <th>7</th>\n",
       "      <td>As per your request 'Melle Melle (Oru Minnamin...</td>\n",
       "      <td>0</td>\n",
       "    </tr>\n",
       "    <tr>\n",
       "      <th>8</th>\n",
       "      <td>WINNER!! As a valued network customer you have...</td>\n",
       "      <td>1</td>\n",
       "    </tr>\n",
       "    <tr>\n",
       "      <th>9</th>\n",
       "      <td>Had your mobile 11 months or more? U R entitle...</td>\n",
       "      <td>1</td>\n",
       "    </tr>\n",
       "  </tbody>\n",
       "</table>\n",
       "</div>"
      ],
      "text/plain": [
       "                                                text  target\n",
       "0  Go until jurong point, crazy.. Available only ...       0\n",
       "1                      Ok lar... Joking wif u oni...       0\n",
       "2  Free entry in 2 a wkly comp to win FA Cup fina...       1\n",
       "3  U dun say so early hor... U c already then say...       0\n",
       "4  Nah I don't think he goes to usf, he lives aro...       0\n",
       "5  FreeMsg Hey there darling it's been 3 week's n...       1\n",
       "6  Even my brother is not like to speak with me. ...       0\n",
       "7  As per your request 'Melle Melle (Oru Minnamin...       0\n",
       "8  WINNER!! As a valued network customer you have...       1\n",
       "9  Had your mobile 11 months or more? U R entitle...       1"
      ]
     },
     "execution_count": 3,
     "metadata": {},
     "output_type": "execute_result"
    }
   ],
   "source": [
    "spam_data['target'] = np.where(spam_data['target']=='spam',1,0)\n",
    "spam_data.head(10)"
   ]
  },
  {
   "cell_type": "code",
   "execution_count": 4,
   "id": "d651288a",
   "metadata": {},
   "outputs": [
    {
     "data": {
      "text/html": [
       "<div>\n",
       "<style scoped>\n",
       "    .dataframe tbody tr th:only-of-type {\n",
       "        vertical-align: middle;\n",
       "    }\n",
       "\n",
       "    .dataframe tbody tr th {\n",
       "        vertical-align: top;\n",
       "    }\n",
       "\n",
       "    .dataframe thead th {\n",
       "        text-align: right;\n",
       "    }\n",
       "</style>\n",
       "<table border=\"1\" class=\"dataframe\">\n",
       "  <thead>\n",
       "    <tr style=\"text-align: right;\">\n",
       "      <th></th>\n",
       "      <th>text</th>\n",
       "      <th>target</th>\n",
       "      <th>length</th>\n",
       "    </tr>\n",
       "  </thead>\n",
       "  <tbody>\n",
       "    <tr>\n",
       "      <th>0</th>\n",
       "      <td>Go until jurong point, crazy.. Available only ...</td>\n",
       "      <td>0</td>\n",
       "      <td>111</td>\n",
       "    </tr>\n",
       "    <tr>\n",
       "      <th>1</th>\n",
       "      <td>Ok lar... Joking wif u oni...</td>\n",
       "      <td>0</td>\n",
       "      <td>29</td>\n",
       "    </tr>\n",
       "    <tr>\n",
       "      <th>2</th>\n",
       "      <td>Free entry in 2 a wkly comp to win FA Cup fina...</td>\n",
       "      <td>1</td>\n",
       "      <td>155</td>\n",
       "    </tr>\n",
       "    <tr>\n",
       "      <th>3</th>\n",
       "      <td>U dun say so early hor... U c already then say...</td>\n",
       "      <td>0</td>\n",
       "      <td>49</td>\n",
       "    </tr>\n",
       "    <tr>\n",
       "      <th>4</th>\n",
       "      <td>Nah I don't think he goes to usf, he lives aro...</td>\n",
       "      <td>0</td>\n",
       "      <td>61</td>\n",
       "    </tr>\n",
       "    <tr>\n",
       "      <th>...</th>\n",
       "      <td>...</td>\n",
       "      <td>...</td>\n",
       "      <td>...</td>\n",
       "    </tr>\n",
       "    <tr>\n",
       "      <th>5567</th>\n",
       "      <td>This is the 2nd time we have tried 2 contact u...</td>\n",
       "      <td>1</td>\n",
       "      <td>161</td>\n",
       "    </tr>\n",
       "    <tr>\n",
       "      <th>5568</th>\n",
       "      <td>Will Ì_ b going to esplanade fr home?</td>\n",
       "      <td>0</td>\n",
       "      <td>37</td>\n",
       "    </tr>\n",
       "    <tr>\n",
       "      <th>5569</th>\n",
       "      <td>Pity, * was in mood for that. So...any other s...</td>\n",
       "      <td>0</td>\n",
       "      <td>57</td>\n",
       "    </tr>\n",
       "    <tr>\n",
       "      <th>5570</th>\n",
       "      <td>The guy did some bitching but I acted like i'd...</td>\n",
       "      <td>0</td>\n",
       "      <td>125</td>\n",
       "    </tr>\n",
       "    <tr>\n",
       "      <th>5571</th>\n",
       "      <td>Rofl. Its true to its name</td>\n",
       "      <td>0</td>\n",
       "      <td>26</td>\n",
       "    </tr>\n",
       "  </tbody>\n",
       "</table>\n",
       "<p>5572 rows × 3 columns</p>\n",
       "</div>"
      ],
      "text/plain": [
       "                                                   text  target  length\n",
       "0     Go until jurong point, crazy.. Available only ...       0     111\n",
       "1                         Ok lar... Joking wif u oni...       0      29\n",
       "2     Free entry in 2 a wkly comp to win FA Cup fina...       1     155\n",
       "3     U dun say so early hor... U c already then say...       0      49\n",
       "4     Nah I don't think he goes to usf, he lives aro...       0      61\n",
       "...                                                 ...     ...     ...\n",
       "5567  This is the 2nd time we have tried 2 contact u...       1     161\n",
       "5568              Will Ì_ b going to esplanade fr home?       0      37\n",
       "5569  Pity, * was in mood for that. So...any other s...       0      57\n",
       "5570  The guy did some bitching but I acted like i'd...       0     125\n",
       "5571                         Rofl. Its true to its name       0      26\n",
       "\n",
       "[5572 rows x 3 columns]"
      ]
     },
     "execution_count": 4,
     "metadata": {},
     "output_type": "execute_result"
    }
   ],
   "source": [
    "spam_data['length'] = spam_data['text'].apply(len)\n",
    "spam_data['length'].max()\n",
    "spam_data"
   ]
  },
  {
   "cell_type": "code",
   "execution_count": 5,
   "id": "382373d2",
   "metadata": {},
   "outputs": [
    {
     "data": {
      "text/html": [
       "<div>\n",
       "<style scoped>\n",
       "    .dataframe tbody tr th:only-of-type {\n",
       "        vertical-align: middle;\n",
       "    }\n",
       "\n",
       "    .dataframe tbody tr th {\n",
       "        vertical-align: top;\n",
       "    }\n",
       "\n",
       "    .dataframe thead th {\n",
       "        text-align: right;\n",
       "    }\n",
       "</style>\n",
       "<table border=\"1\" class=\"dataframe\">\n",
       "  <thead>\n",
       "    <tr style=\"text-align: right;\">\n",
       "      <th></th>\n",
       "      <th>text</th>\n",
       "      <th>target</th>\n",
       "      <th>length</th>\n",
       "    </tr>\n",
       "  </thead>\n",
       "  <tbody>\n",
       "    <tr>\n",
       "      <th>0</th>\n",
       "      <td>Go until jurong point, crazy.. Available only ...</td>\n",
       "      <td>0</td>\n",
       "      <td>111</td>\n",
       "    </tr>\n",
       "    <tr>\n",
       "      <th>1</th>\n",
       "      <td>Ok lar... Joking wif u oni...</td>\n",
       "      <td>0</td>\n",
       "      <td>29</td>\n",
       "    </tr>\n",
       "    <tr>\n",
       "      <th>3</th>\n",
       "      <td>U dun say so early hor... U c already then say...</td>\n",
       "      <td>0</td>\n",
       "      <td>49</td>\n",
       "    </tr>\n",
       "    <tr>\n",
       "      <th>4</th>\n",
       "      <td>Nah I don't think he goes to usf, he lives aro...</td>\n",
       "      <td>0</td>\n",
       "      <td>61</td>\n",
       "    </tr>\n",
       "    <tr>\n",
       "      <th>6</th>\n",
       "      <td>Even my brother is not like to speak with me. ...</td>\n",
       "      <td>0</td>\n",
       "      <td>77</td>\n",
       "    </tr>\n",
       "    <tr>\n",
       "      <th>...</th>\n",
       "      <td>...</td>\n",
       "      <td>...</td>\n",
       "      <td>...</td>\n",
       "    </tr>\n",
       "    <tr>\n",
       "      <th>5565</th>\n",
       "      <td>Huh y lei...</td>\n",
       "      <td>0</td>\n",
       "      <td>12</td>\n",
       "    </tr>\n",
       "    <tr>\n",
       "      <th>5568</th>\n",
       "      <td>Will Ì_ b going to esplanade fr home?</td>\n",
       "      <td>0</td>\n",
       "      <td>37</td>\n",
       "    </tr>\n",
       "    <tr>\n",
       "      <th>5569</th>\n",
       "      <td>Pity, * was in mood for that. So...any other s...</td>\n",
       "      <td>0</td>\n",
       "      <td>57</td>\n",
       "    </tr>\n",
       "    <tr>\n",
       "      <th>5570</th>\n",
       "      <td>The guy did some bitching but I acted like i'd...</td>\n",
       "      <td>0</td>\n",
       "      <td>125</td>\n",
       "    </tr>\n",
       "    <tr>\n",
       "      <th>5571</th>\n",
       "      <td>Rofl. Its true to its name</td>\n",
       "      <td>0</td>\n",
       "      <td>26</td>\n",
       "    </tr>\n",
       "  </tbody>\n",
       "</table>\n",
       "<p>4825 rows × 3 columns</p>\n",
       "</div>"
      ],
      "text/plain": [
       "                                                   text  target  length\n",
       "0     Go until jurong point, crazy.. Available only ...       0     111\n",
       "1                         Ok lar... Joking wif u oni...       0      29\n",
       "3     U dun say so early hor... U c already then say...       0      49\n",
       "4     Nah I don't think he goes to usf, he lives aro...       0      61\n",
       "6     Even my brother is not like to speak with me. ...       0      77\n",
       "...                                                 ...     ...     ...\n",
       "5565                                       Huh y lei...       0      12\n",
       "5568              Will Ì_ b going to esplanade fr home?       0      37\n",
       "5569  Pity, * was in mood for that. So...any other s...       0      57\n",
       "5570  The guy did some bitching but I acted like i'd...       0     125\n",
       "5571                         Rofl. Its true to its name       0      26\n",
       "\n",
       "[4825 rows x 3 columns]"
      ]
     },
     "execution_count": 5,
     "metadata": {},
     "output_type": "execute_result"
    }
   ],
   "source": [
    "ham = spam_data[spam_data['target']==0]\n",
    "spam = spam_data[spam_data['target']==1]\n",
    "ham"
   ]
  },
  {
   "cell_type": "code",
   "execution_count": 6,
   "id": "ded32db5",
   "metadata": {},
   "outputs": [
    {
     "name": "stdout",
     "output_type": "stream",
     "text": [
      "Spam percentage = 13.406317300789663 %\n",
      "Ham percentage = 86.59368269921033 %\n"
     ]
    },
    {
     "name": "stderr",
     "output_type": "stream",
     "text": [
      "c:\\users\\usuario\\appdata\\local\\programs\\python\\python39\\lib\\site-packages\\seaborn\\_decorators.py:36: FutureWarning: Pass the following variable as a keyword arg: x. From version 0.12, the only valid positional argument will be `data`, and passing other arguments without an explicit keyword will result in an error or misinterpretation.\n",
      "  warnings.warn(\n"
     ]
    },
    {
     "data": {
      "text/plain": [
       "<AxesSubplot:xlabel='Ham(0) and Spam(1)', ylabel='count'>"
      ]
     },
     "execution_count": 6,
     "metadata": {},
     "output_type": "execute_result"
    },
    {
     "data": {
      "image/png": "[encoded data removed]",
      "text/plain": [
       "<Figure size 432x288 with 1 Axes>"
      ]
     },
     "metadata": {
      "needs_background": "light"
     },
     "output_type": "display_data"
    }
   ],
   "source": [
    "spam['length'].plot(bins=60, kind='hist') \n",
    "ham['length'].plot(bins=60, kind='hist') \n",
    "spam_data['Ham(0) and Spam(1)'] = spam_data['target']\n",
    "print('Spam percentage =', (len(spam) / len(spam_data) )*100,\"%\")\n",
    "print('Ham percentage =', (len(ham) / len(spam_data) )*100,\"%\")\n",
    "sns.countplot(spam_data['Ham(0) and Spam(1)'], label = \"Count\") "
   ]
  },
  {
   "cell_type": "code",
   "execution_count": 7,
   "id": "694e40f5",
   "metadata": {},
   "outputs": [
    {
     "data": {
      "text/plain": [
       "872                       I'll text you when I drop x off\n",
       "831     Hi mate its RV did u hav a nice hol just a mes...\n",
       "1273    network operator. The service is free. For T &...\n",
       "3314    FREE MESSAGE Activate your 500 FREE Text Messa...\n",
       "4929    Hi, the SEXYCHAT girls are waiting for you to ...\n",
       "Name: text, dtype: object"
      ]
     },
     "execution_count": 7,
     "metadata": {},
     "output_type": "execute_result"
    }
   ],
   "source": [
    "# Split the Data into Train and Test Dataset\n",
    "X_train, X_test, y_train, y_test = train_test_split(spam_data['text'], spam_data['target'], random_state=0)\n",
    "X_train.head()"
   ]
  },
  {
   "cell_type": "code",
   "execution_count": 8,
   "id": "d8dbfb0d",
   "metadata": {},
   "outputs": [
    {
     "name": "stdout",
     "output_type": "stream",
     "text": [
      "TfidfVectorizer(min_df=5, ngram_range=(1, 3))\n"
     ]
    }
   ],
   "source": [
    "# Build the tf-idf on N-grams\n",
    "# Fit and transform the training data X_train using a Tfidf Vectorizer ignoring terms that have a document \n",
    "# frequency strictly lower than 5 and using word n-grams from n=1 to n=3 (unigrams, bigrams, and trigrams)\n",
    "\n",
    "vect = TfidfVectorizer(min_df=5, ngram_range=(1,3)).fit(X_train)\n",
    "X_train_vectorized = vect.transform(X_train)\n",
    "print(vect)"
   ]
  },
  {
   "cell_type": "code",
   "execution_count": 9,
   "id": "55139b3a",
   "metadata": {},
   "outputs": [],
   "source": [
    "# Add Features\n",
    "# We apart from the tokens, we can add features such as the number of digits, the dollar sign , \n",
    "# the length of the subject line and the number of characters (anything other than a letter, \n",
    "# digit or underscore) . Let’s create a function for that.\n",
    "\n",
    "def add_feature(X, feature_to_add):\n",
    "    \"\"\"\n",
    "    Returns sparse feature matrix with added feature.\n",
    "    feature_to_add can also be a list of features.\n",
    "    \"\"\"\n",
    "    from scipy.sparse import csr_matrix, hstack\n",
    "    return hstack([X, csr_matrix(feature_to_add).T], 'csr')"
   ]
  },
  {
   "cell_type": "code",
   "execution_count": 10,
   "id": "e9f950d0",
   "metadata": {},
   "outputs": [
    {
     "name": "stdout",
     "output_type": "stream",
     "text": [
      "  (0, 3342)\t0.3848355000495142\n",
      "  (0, 3251)\t0.12210051538966364\n",
      "  (0, 3102)\t0.21690848674045454\n",
      "  (0, 2575)\t0.39837938106227844\n",
      "  (0, 2568)\t0.2409266945100516\n",
      "  (0, 1967)\t0.29030759448659726\n",
      "  (0, 1569)\t0.4066868963923711\n",
      "  (0, 1568)\t0.3848355000495142\n",
      "  (0, 1556)\t0.21852537324796387\n",
      "  (0, 825)\t0.3573059964158254\n",
      "  (1, 2491)\t0.2816129600278037\n",
      "  (1, 2486)\t0.2816129600278037\n",
      "  (1, 2424)\t0.15440900952836356\n",
      "  (1, 2348)\t0.23667562306107923\n",
      "  (1, 2304)\t0.2222378553837101\n",
      "  (1, 1967)\t0.23321035440585086\n",
      "  (1, 1879)\t0.2434998129889521\n",
      "  (1, 1711)\t0.22490286564251932\n",
      "  (1, 1658)\t0.29669211345895263\n",
      "  (1, 1437)\t0.1620601255199983\n",
      "  (1, 1415)\t0.18537177914359518\n",
      "  (1, 1315)\t0.12514896867357334\n",
      "  (1, 1216)\t0.20946142769944906\n",
      "  (1, 1199)\t0.2528971315958035\n",
      "  (1, 1159)\t0.2767976967988618\n",
      "  :\t:\n",
      "  (4176, 458)\t0.19917527537400725\n",
      "  (4176, 445)\t0.25395816975460805\n",
      "  (4176, 442)\t0.2606277263046437\n",
      "  (4176, 314)\t0.13069381576768616\n",
      "  (4177, 3251)\t0.14886877053979514\n",
      "  (4177, 3239)\t0.34565372174155323\n",
      "  (4177, 2275)\t0.4857166120706357\n",
      "  (4177, 1577)\t0.3434632847044672\n",
      "  (4177, 1545)\t0.4857166120706357\n",
      "  (4177, 1535)\t0.27496911567583626\n",
      "  (4177, 1160)\t0.22038992358853124\n",
      "  (4177, 753)\t0.3799652331286877\n",
      "  (4178, 3251)\t0.26515030658108674\n",
      "  (4178, 3202)\t0.49102585814819544\n",
      "  (4178, 2816)\t0.4315632615786162\n",
      "  (4178, 2720)\t0.1715208904117073\n",
      "  (4178, 2555)\t0.18502368688796123\n",
      "  (4178, 2542)\t0.2673436987224062\n",
      "  (4178, 2541)\t0.22448652363233873\n",
      "  (4178, 2509)\t0.27073803706809624\n",
      "  (4178, 1255)\t0.15606174245788992\n",
      "  (4178, 1193)\t0.23871135428972223\n",
      "  (4178, 260)\t0.28316100689412865\n",
      "  (4178, 258)\t0.20939840083890826\n",
      "  (4178, 162)\t0.19533747917018257\n"
     ]
    }
   ],
   "source": [
    "print(X_train_vectorized)"
   ]
  },
  {
   "cell_type": "code",
   "execution_count": 11,
   "id": "958b89a6",
   "metadata": {},
   "outputs": [
    {
     "name": "stdout",
     "output_type": "stream",
     "text": [
      "  (0, 825)\t0.3573059964158254\n",
      "  (0, 1556)\t0.21852537324796387\n",
      "  (0, 1568)\t0.3848355000495142\n",
      "  (0, 1569)\t0.4066868963923711\n",
      "  (0, 1967)\t0.29030759448659726\n",
      "  (0, 2568)\t0.2409266945100516\n",
      "  (0, 2575)\t0.39837938106227844\n",
      "  (0, 3102)\t0.21690848674045454\n",
      "  (0, 3251)\t0.12210051538966364\n",
      "  (0, 3342)\t0.3848355000495142\n",
      "  (0, 3383)\t31.0\n",
      "  (0, 3386)\t8.0\n",
      "  (1, 680)\t0.279138415305129\n",
      "  (1, 744)\t0.20804186621106918\n",
      "  (1, 824)\t0.279138415305129\n",
      "  (1, 1159)\t0.2767976967988618\n",
      "  (1, 1199)\t0.2528971315958035\n",
      "  (1, 1216)\t0.20946142769944906\n",
      "  (1, 1315)\t0.12514896867357334\n",
      "  (1, 1415)\t0.18537177914359518\n",
      "  (1, 1437)\t0.1620601255199983\n",
      "  (1, 1658)\t0.29669211345895263\n",
      "  (1, 1711)\t0.22490286564251932\n",
      "  (1, 1879)\t0.2434998129889521\n",
      "  (1, 1967)\t0.23321035440585086\n",
      "  :\t:\n",
      "  (4177, 753)\t0.3799652331286877\n",
      "  (4177, 1160)\t0.22038992358853124\n",
      "  (4177, 1535)\t0.27496911567583626\n",
      "  (4177, 1545)\t0.4857166120706357\n",
      "  (4177, 1577)\t0.3434632847044672\n",
      "  (4177, 2275)\t0.4857166120706357\n",
      "  (4177, 3239)\t0.34565372174155323\n",
      "  (4177, 3251)\t0.14886877053979514\n",
      "  (4177, 3383)\t62.0\n",
      "  (4177, 3386)\t18.0\n",
      "  (4178, 162)\t0.19533747917018257\n",
      "  (4178, 258)\t0.20939840083890826\n",
      "  (4178, 260)\t0.28316100689412865\n",
      "  (4178, 1193)\t0.23871135428972223\n",
      "  (4178, 1255)\t0.15606174245788992\n",
      "  (4178, 2509)\t0.27073803706809624\n",
      "  (4178, 2541)\t0.22448652363233873\n",
      "  (4178, 2542)\t0.2673436987224062\n",
      "  (4178, 2555)\t0.18502368688796123\n",
      "  (4178, 2720)\t0.1715208904117073\n",
      "  (4178, 2816)\t0.4315632615786162\n",
      "  (4178, 3202)\t0.49102585814819544\n",
      "  (4178, 3251)\t0.26515030658108674\n",
      "  (4178, 3383)\t82.0\n",
      "  (4178, 3386)\t21.0\n"
     ]
    }
   ],
   "source": [
    "# Train Data\n",
    "add_length=X_train.str.len()\n",
    "add_digits=X_train.str.count(r'\\d')\n",
    "add_dollars=X_train.str.count(r'\\$')\n",
    "add_characters=X_train.str.count(r'\\W')\n",
    " \n",
    "X_train_transformed = add_feature(X_train_vectorized , [add_length, add_digits, add_dollars, add_characters])\n",
    "print(X_train_transformed)"
   ]
  },
  {
   "cell_type": "code",
   "execution_count": 12,
   "id": "48e7bace",
   "metadata": {},
   "outputs": [
    {
     "data": {
      "text/plain": [
       "<1393x3387 sparse matrix of type '<class 'numpy.float64'>'\n",
       "\twith 23244 stored elements in Compressed Sparse Row format>"
      ]
     },
     "execution_count": 12,
     "metadata": {},
     "output_type": "execute_result"
    }
   ],
   "source": [
    "# Test Data\n",
    "add_length_t=X_test.str.len()\n",
    "add_digits_t=X_test.str.count(r'\\d')\n",
    "add_dollars_t=X_test.str.count(r'\\$')\n",
    "add_characters_t=X_test.str.count(r'\\W')\n",
    "\n",
    "X_test_transformed = add_feature(vect.transform(X_test), [add_length_t, add_digits_t,  add_dollars_t, add_characters_t])\n",
    "X_test_transformed"
   ]
  },
  {
   "cell_type": "code",
   "execution_count": 13,
   "id": "8d7746b4",
   "metadata": {
    "scrolled": false
   },
   "outputs": [
    {
     "name": "stdout",
     "output_type": "stream",
     "text": [
      "0.9653\n"
     ]
    },
    {
     "name": "stderr",
     "output_type": "stream",
     "text": [
      "c:\\users\\usuario\\appdata\\local\\programs\\python\\python39\\lib\\site-packages\\sklearn\\linear_model\\_logistic.py:763: ConvergenceWarning: lbfgs failed to converge (status=1):\n",
      "STOP: TOTAL NO. of ITERATIONS REACHED LIMIT.\n",
      "\n",
      "Increase the number of iterations (max_iter) or scale the data as shown in:\n",
      "    https://scikit-learn.org/stable/modules/preprocessing.html\n",
      "Please also refer to the documentation for alternative solver options:\n",
      "    https://scikit-learn.org/stable/modules/linear_model.html#logistic-regression\n",
      "  n_iter_i = _check_optimize_result(\n"
     ]
    }
   ],
   "source": [
    "# Train the Logistic Regression Model\n",
    "# We will build the Logistic Regression Model and we will report the AUC score on the test dataset:\n",
    "    \n",
    "clf = LogisticRegression(C=100, solver='lbfgs', max_iter=1000)\n",
    " \n",
    "clf.fit(X_train_transformed, y_train)\n",
    " \n",
    "y_predicted = clf.predict(X_test_transformed)\n",
    " \n",
    "auc = roc_auc_score(y_test, y_predicted)\n",
    "print(round(auc,4))"
   ]
  },
  {
   "cell_type": "markdown",
   "id": "d13065da",
   "metadata": {},
   "source": [
    "What does the AUC mean? --> Area under the ROC Curve\n",
    "What is considered a good AUC? The AUC value lies between 0.5 to 1 where 0.5 denotes a bad classifer and 1 denotes an excellent classifier.\n",
    "\n",
    "AUC or AUROC is area under ROC curve. The value of AUC characterizes the model performance. \n",
    "Higher the AUC value, higher the performance of the model."
   ]
  },
  {
   "cell_type": "code",
   "execution_count": 14,
   "id": "fb575916",
   "metadata": {
    "scrolled": false
   },
   "outputs": [
    {
     "name": "stdout",
     "output_type": "stream",
     "text": [
      "Features which lead to Ham: ['ì_ wan' 'for 1st' 'park' '1st' 'ah' 'wan' 'say' 'got' 'tomorrow' 'if'\n",
      " 'ì_' 'my' 'call' 'opinion' 'days' 'gt' 'lovable' 'lt' 'its' 'sorry' 'all'\n",
      " 'can' 'when' 'face' 'hope' 'she' 'pls' 'hav' 'lt gt' 'he' 'smile' 'wife'\n",
      " 'for my' 'trouble' 'sir' 'hey' 'me' 'went' 'about me' '30' 'lovely'\n",
      " 'me if' 'small' 'silent' 'sun' 'only' 'happy' 'my dad' 'them' 'mail']\n"
     ]
    }
   ],
   "source": [
    "# Get the Most Important Features\n",
    "# We will show the 50 most important features which lead to either Ham of Spam respectively.\n",
    "\n",
    "feature_names = np.array(vect.get_feature_names() + ['lengthc', 'digit', 'dollars', 'n_char'])\n",
    "sorted_coef_index = clf.coef_[0].argsort()\n",
    "smallest = feature_names[sorted_coef_index[:50]]\n",
    "largest = feature_names[sorted_coef_index[:-51:-1]]\n",
    "print('Features which lead to Ham:', smallest)"
   ]
  },
  {
   "cell_type": "code",
   "execution_count": 15,
   "id": "9dd3ea9d",
   "metadata": {},
   "outputs": [
    {
     "name": "stdout",
     "output_type": "stream",
     "text": [
      "Features which lead to Spam: ['text' 'sale' 'free' 'content' 'uk' 'tones' 'sms' 'reply' 'order' 'won'\n",
      " 'ltd' 'girls' 'ringtone' 'comes' 'to' 'darling' 'this message' 'what you'\n",
      " 'www' 'new' 'std' 'co uk' 'about the' 'co' 'strong' 'user' 'txt' 'all of'\n",
      " 'your' 'choose' 'service' 'mobile' 'the new' 'wap' 'sunshine' 'with'\n",
      " 'xxx' 'sexy' 'hot' 'this' 'freemsg' 'ta' 'waiting for your' 'http'\n",
      " 'll have' 'vodafone' 'asap' 'we need' 'stop' 'of the']\n"
     ]
    }
   ],
   "source": [
    "# Features which lead to Spam:\n",
    "print('Features which lead to Spam:', largest)"
   ]
  },
  {
   "cell_type": "markdown",
   "id": "0eaea83d",
   "metadata": {},
   "source": [
    "This is a practical and reproducible example of how to build a decent Ham or Spam algorithm. This is one of the main tasks in the field of **NLP**. \n",
    "\n",
    "The model achieved an AUC score of 96.5% on the test dataset which is really good. We were also able to add features and also to identify the features which are more likely to appear in a Spam email and vice versa."
   ]
  }
 ],
 "metadata": {
  "kernelspec": {
   "display_name": "Python 3",
   "language": "python",
   "name": "python3"
  },
  "language_info": {
   "codemirror_mode": {
    "name": "ipython",
    "version": 3
   },
   "file_extension": ".py",
   "mimetype": "text/x-python",
   "name": "python",
   "nbconvert_exporter": "python",
   "pygments_lexer": "ipython3",
   "version": "3.9.4"
  }
 },
 "nbformat": 4,
 "nbformat_minor": 5
}
